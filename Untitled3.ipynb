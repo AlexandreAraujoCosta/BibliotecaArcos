{
  "nbformat": 4,
  "nbformat_minor": 0,
  "metadata": {
    "colab": {
      "provenance": [],
      "authorship_tag": "ABX9TyP4MGEZyGk5B39vpaGZ3O4p",
      "include_colab_link": true
    },
    "kernelspec": {
      "name": "python3",
      "display_name": "Python 3"
    },
    "language_info": {
      "name": "python"
    }
  },
  "cells": [
    {
      "cell_type": "markdown",
      "metadata": {
        "id": "view-in-github",
        "colab_type": "text"
      },
      "source": [
        "<a href=\"https://colab.research.google.com/github/AlexandreAraujoCosta/BibliotecaArcos/blob/main/Untitled3.ipynb\" target=\"_parent\"><img src=\"https://colab.research.google.com/assets/colab-badge.svg\" alt=\"Open In Colab\"/></a>"
      ]
    },
    {
      "cell_type": "code",
      "execution_count": null,
      "metadata": {
        "id": "CM9julHyRSQI"
      },
      "outputs": [],
      "source": []
    },
    {
      "cell_type": "markdown",
      "source": [
        "# Programação para Juristas\n",
        "## 1. Comandos e Variáveis\n",
        "\n",
        "### 1. Comandos\n",
        "No começo estão os verbos: eles formam as expressões que utilizamos para definir as ações que o nosso programa deve executar:\n",
        "* imprima\n",
        "* grave\n",
        "* busque\n",
        "\n",
        "Cada uma dessas expressões é chamada de função (*function*), e todo algoritmo tem como elemento constitutivos essas determinações para fazer alguma coisa.\n",
        "\n",
        "Fazer o quê?\n",
        "* imprima algo\n",
        "* grave algo\n",
        "* busque algo\n",
        "\n",
        "Esse \"algo\" é um objeto que complementa a função, sendo que a combinação \"função + objeto\" nos oferece os exemplos mais simples de comandos (em inglês, *statements*, palavra que costuma ser traduzidas por instruções ou declarações).\n",
        "\n",
        "Quem tem formação em direito tipicamente conhece a diferença entre uma ordem concreta e uma norma abstrata. A diferença entre funções e comandos é similar:\n",
        "1. comandos são instruções concretas, constituindo expressões executáveis;\n",
        "2. funções são instruções abstratas, que somente podem ser executadas na medida em que você complemente a função com alguns valores, sem os quais não é possível saber exatamente o que deve ser feito pelo seu computador.\n",
        "\n",
        "> Abra x.\n",
        "\n",
        "Esta é uma função. Podemos entender que se trata de uma instrução para abrir algo, mas é impossível executar essa função porque o x não foi determinado.\n",
        "\n",
        "> Abra um *browser*.\n",
        "\n",
        "Este é um comando para você abrir qualquer navegador. Ele é executável, mas mas essa tarefa pode ser cumprida de várias formas: abrindo o Chrome, o Safari ou o Tor, por exemplo. A língua portuguesa admite instruções abertas, como essa, algo que não é admissível em Python. Nas linguagens de programação, é preciso fornecer instruções mais completas, que somente possam ser realizadas de uma única forma.\n",
        "\n",
        "> Abra o Chrome.\n",
        "\n",
        "Agora temos um comando claramente definido, mas escrito em linguagem natural e processado por um ser humano.\n",
        "\n",
        "Passemos então para o Python, que é uma linguagem específica, processada por um computador.\n",
        "Nos notebooks Jupyter, como este, o processamento das instruções ocorrerá em janelas de código, nas quais você pode inserir comandos em linguagem de programação.\n",
        "\n",
        "Começemos com uma função simples:\n",
        "> print()\n",
        "\n",
        "Essa função permite gerar comandos que determinam a exibição, na tela, dos valores que você colocar entre parênteses.\n",
        "Na janela abaixo, clique sobre o símbolo de \"play\", para executar o comando nela contido.\n"
      ],
      "metadata": {
        "id": "QBF9VkPbRTeq"
      }
    },
    {
      "cell_type": "code",
      "source": [
        "print('STF')"
      ],
      "metadata": {
        "colab": {
          "base_uri": "https://localhost:8080/"
        },
        "id": "pIvzXvH3TjGA",
        "outputId": "66dcd6b0-226e-4185-9bae-e1237fc50cd5"
      },
      "execution_count": 2,
      "outputs": [
        {
          "output_type": "stream",
          "name": "stdout",
          "text": [
            "STF\n"
          ]
        }
      ]
    },
    {
      "cell_type": "markdown",
      "source": [
        "O comando \"print('STF')\" tem todos os elementos necessários para que o Python o execute. Quando você determina a sua execução, o resultado vem em seguida: aparece a palavra STF na sua tela.\n",
        "\n",
        "Na sintaxe do Python (ou seja, nas regras de construção da linguagem), não importa se você coloca espaços entre o nome da função e o seu complemento, pois isso não altera o resultado da sua execução. Tampouco importa se você usa aspas simples ou duplas. Por isso, em Python, as quatro expressões abaixo são funcionalmente equivalentes."
      ],
      "metadata": {
        "id": "qfd7XPbOTiuD"
      }
    },
    {
      "cell_type": "code",
      "source": [
        "print('STF')\n",
        "print (\"STF\")\n",
        "print      ('STF')\n",
        "print                                      (  \"STF\"    )"
      ],
      "metadata": {
        "colab": {
          "base_uri": "https://localhost:8080/"
        },
        "outputId": "9246d4e2-9f09-4a12-a423-97c7854a0881",
        "id": "cfZvcRlOX14a"
      },
      "execution_count": 21,
      "outputs": [
        {
          "output_type": "stream",
          "name": "stdout",
          "text": [
            "STF\n",
            "STF\n",
            "STF\n",
            "STF\n"
          ]
        }
      ]
    },
    {
      "cell_type": "markdown",
      "source": [
        "A diferença entre elas está na elegância e na utilização de certos parâmetros que são sugeridos para os programadores, como regras de estilo. Uma expressão escrita de acordo com esses parâmetros, é considerado *pithonic*, ou seja, de acordo com o estilo predominante na comunidade de desenvolvedores.\n",
        "\n",
        "Você pode encontrar alguns códigos de estilo, que indicam formas de escrever elegantemente em Python, como o [Style Guide for Python Code](https://https://peps.python.org/pep-0008/), contido na própria documentação do Python e baseado nas orientações do criador da linguagem, Guido van Rossum.\n",
        "\n",
        "Há outros guias interessantes, como o [The Hitchhiker's Guide to Python](https://docs.python-guide.org/writing/style/). Todos eles indicarão que, ao usar parênteses, você não deve colocar espaços além do necessário. Por isso, entre as expressões acima, apenas a primeira é pythônica (*pythonic*).\n",
        "\n",
        "Isso não quer dizer que as outras formas sejam erradas ou disfuncionais. Inclusive, o próprio guia de estilo é o primeiro a dizer que ele não composto por regras obrigatórias, mas por orientações voltadas a garantir a consistência.\n",
        "\n",
        "> Consistency with this style guide is important. Consistency within a project is more important. Consistency within one module or function is the most important.\n",
        "\n",
        "Todas as regras são voltadas a aumentar a legibilidade do código, para facilitar a sua compreensão por outras pessoas. Os computadores entendem Python escrito de qualquer forma sintaticamente correta. São as pessoas que precisam de uma organização adequada para compreender os seus comandos.\n",
        "\n",
        "Portanto, o mais importante é produzir códigos tão legíveis quanto possível. Se eles seguirem as orientações típicas da comunidade de desenvolvedores, eles tendem a ser mais facilmente compreendidos. Porém, você não deve se preocupar demasiadamente com a elegância pithônica, ao menos por enquanto.\n",
        "\n",
        "Neste início, o mais relevante é produzir códigos estruturalmente corretos. Observe, por exemplo, o resultado da execução dos seguintes comandos.\n",
        "\n",
        "\n"
      ],
      "metadata": {
        "id": "KUjhBXhPYi6K"
      }
    },
    {
      "cell_type": "code",
      "source": [
        "Print(\"STF\")"
      ],
      "metadata": {
        "id": "2s83sJn-ej1n"
      },
      "execution_count": null,
      "outputs": []
    },
    {
      "cell_type": "code",
      "source": [],
      "metadata": {
        "id": "Lf9m35qj4Wrm"
      },
      "execution_count": null,
      "outputs": []
    },
    {
      "cell_type": "markdown",
      "source": [
        "Enquanto print() é uma função do Python, Print() ou PRINT() não são. Espaços em branco não são relevantes, mas letras maiúsculas são, e todas as funções devem começar com letra minúscula, inclusive as que você próprio define. Como não existe a função Print(), você recebe o aviso de que o nome 'Print' não é definido, ou seja, que não é possível atribuir a ele algum sentido em Python.\n",
        "\n",
        "Por esse motivo, o programa acusa um \"Name Error\", indicando que parece existir uma expressão cujo sentido não está bem definido.\n",
        "\n",
        "Não usamos o termo linguagem de programação à toa. Python é efetivamente uma linguagem, que é processada por um *software* específico: o interpretador. Diferentemente do seu cérebro, que busca dar sentidos adequados para expressões com problema (como \"Python é uma langagem\"), o interpretador do Python só sabe processar expressões construídas de forma exata.\n",
        "\n",
        "A incapacidade de lidar com expressões imprecisas pode parecer um defeito, mas não é. Uma linguagem extremamente precisa exige que você explique exatamente o que o computador deve fazer, uma exigência que não temos nas linguagens naturais com que nos comunicamos com pessoas dotadas de cérebros que leem nas entrelinhas.\n",
        "\n",
        "Isso pode parecer um peso, mas a vantagem dos computadores é que eles realizam exatamente aquilo que você determinar. A exigência de que a função print tenha um complemento entre parênteses permite que você saiba exatamente o que você está mandando imprimir.\n",
        "\n",
        "Um erro diferente é gerado pelo comando seguinte:"
      ],
      "metadata": {
        "id": "LcAsSI-0ep7X"
      }
    },
    {
      "cell_type": "code",
      "source": [
        "print 'STF'"
      ],
      "metadata": {
        "colab": {
          "base_uri": "https://localhost:8080/",
          "height": 145
        },
        "id": "Q_iBb5qQjvUs",
        "outputId": "8bd21653-c20d-4e64-d2da-d0935588dd08"
      },
      "execution_count": 20,
      "outputs": [
        {
          "output_type": "error",
          "ename": "SyntaxError",
          "evalue": "Missing parentheses in call to 'print'. Did you mean print(...)? (<ipython-input-20-971173e61a98>, line 1)",
          "traceback": [
            "\u001b[0;36m  File \u001b[0;32m\"<ipython-input-20-971173e61a98>\"\u001b[0;36m, line \u001b[0;32m1\u001b[0m\n\u001b[0;31m    print 'STF'\u001b[0m\n\u001b[0m    ^\u001b[0m\n\u001b[0;31mSyntaxError\u001b[0m\u001b[0;31m:\u001b[0m Missing parentheses in call to 'print'. Did you mean print(...)?\n"
          ]
        }
      ]
    },
    {
      "cell_type": "markdown",
      "source": [
        "Nesse caso, em vez de um NameError, ocorre um SyntaxError. O NameError é um problema semântico, no qual existe uma expressão que poderia ter sentido, desde que os elementos que compõem o comando (funções e valores) fossem adequadamente definidos. Já os problemas sintáticos ocorrem quando o programa identifica que falta algum elemento no próprio texto, para que ele seja compreensível.\n",
        "\n",
        "A diferença conceitual entre sintaxe e semântica é uma aplicação da teoria linguística de Saussurre, que diferenciou os aspectos sintáticos das linguagens (ligados à observância das regras de construção das expressões) dos seus aspectos semânticos (ligados à compreensibilidade dos significados).\n",
        "\n",
        "No caso do comando acima indicado,faltaram os parênteses, essenciais para definir o que se deve exibir.Trata-se de um esquecimento tão comum que a mensagem de erro já traz a sugestão de correção. Você receberá o aviso de SyntaxError dezenas de vezes ao longo do curso, pois ele ocorre cada vez que esquecemos de inserir algum elemento necessário para que os comandos estejam completos: vírgulas, aspas, parênteses, etc.\n",
        "\n",
        "\n",
        "\n"
      ],
      "metadata": {
        "id": "OnvX3tDJ4-As"
      }
    },
    {
      "cell_type": "code",
      "source": [
        "print ('Supremo Tribunal Federal'"
      ],
      "metadata": {
        "colab": {
          "base_uri": "https://localhost:8080/",
          "height": 145
        },
        "id": "l-UMVFSW6962",
        "outputId": "24daaa50-0bd2-4ffe-98f3-ac65874665f1"
      },
      "execution_count": 1,
      "outputs": [
        {
          "output_type": "error",
          "ename": "SyntaxError",
          "evalue": "incomplete input (<ipython-input-1-c05aa1b77b75>, line 1)",
          "traceback": [
            "\u001b[0;36m  File \u001b[0;32m\"<ipython-input-1-c05aa1b77b75>\"\u001b[0;36m, line \u001b[0;32m1\u001b[0m\n\u001b[0;31m    print ('Supremo Tribunal Federal'\u001b[0m\n\u001b[0m                                     ^\u001b[0m\n\u001b[0;31mSyntaxError\u001b[0m\u001b[0;31m:\u001b[0m incomplete input\n"
          ]
        }
      ]
    },
    {
      "cell_type": "code",
      "source": [
        "print(STF)"
      ],
      "metadata": {
        "id": "J1uEnO2kdcUl"
      },
      "execution_count": null,
      "outputs": []
    },
    {
      "cell_type": "markdown",
      "source": [
        "Essa expressão é sintaticamente correta, pois ela não tem um problema estrutural. Porém, semanticamente ela é indefinida, pois ela não determina a exibição de um valor determinado, como seria o caso da cadeia de caracteres 'STF', que usamos antes.\n",
        "\n",
        "Como STF está sem aspas, o programa não o interpreta essa expressão como um valor, mas como o nome de uma variável. Em Python, toda vez que você define uma variável, precisa atribuir (*assign*) a ela algum valor, o que é feito por meio da função \"=\". Variáveis sem valor atribuído são como setas que apontam para o vazio, o que gera um NameError.\n",
        "\n",
        "Uma vez que você atribua um valor para o nome STF, você pode utilizar a função print().\n"
      ],
      "metadata": {
        "id": "InnDs_xldiSK"
      }
    },
    {
      "cell_type": "code",
      "source": [
        "STF = 'Supremo Tribunal Federal'\n",
        "print(STF)"
      ],
      "metadata": {
        "colab": {
          "base_uri": "https://localhost:8080/"
        },
        "id": "rQc3bTUrgB0B",
        "outputId": "6707dc74-e1b3-4387-e74d-9de98c4a5b15"
      },
      "execution_count": 3,
      "outputs": [
        {
          "output_type": "stream",
          "name": "stdout",
          "text": [
            "Supremo Tribunal Federal\n"
          ]
        }
      ]
    },
    {
      "cell_type": "markdown",
      "source": [
        "Nesse caso específico, atribuímos à variável de nome STF o valor correspondente à sequência de letras e espaços contidos entre aspas. Esse tipo de valor é o que chamamos de *string*, palavra inglesa que indica uma cadeia (no sentido de um conjunto de elementos encadeados). Você pode instruir o Python a te indicar o tamanho (*lenght*) do valor de STF, usando para isso a função len(STF)."
      ],
      "metadata": {
        "id": "TykXtyADaHoX"
      }
    },
    {
      "cell_type": "code",
      "source": [
        "len(STF)"
      ],
      "metadata": {
        "colab": {
          "base_uri": "https://localhost:8080/"
        },
        "id": "tv_gYw8_bGre",
        "outputId": "17818bd5-457b-4a11-b112-57308eaaaa26"
      },
      "execution_count": 9,
      "outputs": [
        {
          "output_type": "execute_result",
          "data": {
            "text/plain": [
              "24"
            ]
          },
          "metadata": {},
          "execution_count": 9
        }
      ]
    },
    {
      "cell_type": "markdown",
      "source": [
        "Esse resultado indica que STF é uma variável cujo valor atual corresponde à sequência dos 24 caracteres contidos em 'Supremo Tribunal Federal'. Compare esse resultado com o da fórmula abaixo:"
      ],
      "metadata": {
        "id": "tkCV-VlobjUO"
      }
    },
    {
      "cell_type": "code",
      "source": [
        "len('STF')"
      ],
      "metadata": {
        "colab": {
          "base_uri": "https://localhost:8080/"
        },
        "id": "Jqr3Q4uMbcem",
        "outputId": "f3da30d8-4f06-4f03-e98a-c025cfe23b4d"
      },
      "execution_count": 10,
      "outputs": [
        {
          "output_type": "execute_result",
          "data": {
            "text/plain": [
              "3"
            ]
          },
          "metadata": {},
          "execution_count": 10
        }
      ]
    },
    {
      "cell_type": "markdown",
      "source": [
        "Nesse caso, o resultado é 3 porque a string 'STF' é composta apenas por 3 letras maiúsculas.\n",
        "\n",
        "Observe que no caso dos notebooks, o valor que você definiu em entradas anteriores continua sendo usado nas entradas seguintes.\n",
        "\n",
        "Pore esse motivo, o seguinte comando retornará um resultado adequado, em vez de uma mensagem de erro."
      ],
      "metadata": {
        "id": "Cosoz4I8gI-t"
      }
    },
    {
      "cell_type": "code",
      "source": [
        "print(STF)"
      ],
      "metadata": {
        "colab": {
          "base_uri": "https://localhost:8080/"
        },
        "id": "VvRVkR0tgS5x",
        "outputId": "cd0bd47c-db26-451b-bf75-06b9fa20eb15"
      },
      "execution_count": 4,
      "outputs": [
        {
          "output_type": "stream",
          "name": "stdout",
          "text": [
            "Supremo Tribunal Federal\n"
          ]
        }
      ]
    },
    {
      "cell_type": "markdown",
      "source": [
        "A esta altura, você já deve ter compreendido bem que as expressões sem aspas são entendidas como nomes (de variáveis ou funções), enquanto as expressões entre aspas são entendidas pelo Python como valores do tipo *string*.\n",
        "\n",
        "Com isso, você já deve ser capaz de imaginar qual é o resultado da instrução abaixo:"
      ],
      "metadata": {
        "id": "eJlTDhuRgWIs"
      }
    },
    {
      "cell_type": "code",
      "source": [
        "Processo = 'ADI333'\n",
        "len(Processo)"
      ],
      "metadata": {
        "colab": {
          "base_uri": "https://localhost:8080/"
        },
        "id": "eJLeFkKrcsXu",
        "outputId": "222fb4bc-4bcf-498e-bf3e-b4f605626de8"
      },
      "execution_count": 11,
      "outputs": [
        {
          "output_type": "execute_result",
          "data": {
            "text/plain": [
              "6"
            ]
          },
          "metadata": {},
          "execution_count": 11
        }
      ]
    },
    {
      "cell_type": "markdown",
      "source": [
        "Portanto, processo é uma cadeia de caracteres composta por 6 elementos, sendo eles 3 letras ('ADI') e 3 dígitos ('333').\n",
        "\n",
        "Observe a diferença entre a atribuição de valor feita pela primeira linha da janela anterior e o seguinte *statement*:"
      ],
      "metadata": {
        "id": "7h8H9Olvc_eC"
      }
    },
    {
      "cell_type": "code",
      "source": [
        "Processo == 'ADI333'"
      ],
      "metadata": {
        "colab": {
          "base_uri": "https://localhost:8080/"
        },
        "id": "CF2ufV7Md7D2",
        "outputId": "bf1546c1-4389-49cc-aef4-8f3937c9c0ce"
      },
      "execution_count": 12,
      "outputs": [
        {
          "output_type": "execute_result",
          "data": {
            "text/plain": [
              "True"
            ]
          },
          "metadata": {},
          "execution_count": 12
        }
      ]
    },
    {
      "cell_type": "markdown",
      "source": [
        "O resultado dessa expressão é True, pois o operador \"==\" não é uma função de atribuição, mas é um indicador de igualdade. Tanto na linguagem natural como na álgebra, o operador de igualdade é simplesmente \"=\", o que faz que seja muito comum que desenvolvedores iniciantes confundam esses dois símbolos."
      ],
      "metadata": {
        "id": "tzJCDho8daD9"
      }
    },
    {
      "cell_type": "code",
      "source": [
        "Processo == 'MS222'"
      ],
      "metadata": {
        "colab": {
          "base_uri": "https://localhost:8080/"
        },
        "id": "Va-rBMdNevDk",
        "outputId": "50402504-84cd-4077-ecdc-bb5d4db17772"
      },
      "execution_count": 13,
      "outputs": [
        {
          "output_type": "execute_result",
          "data": {
            "text/plain": [
              "False"
            ]
          },
          "metadata": {},
          "execution_count": 13
        }
      ]
    },
    {
      "cell_type": "markdown",
      "source": [
        "Assim como Processo == 'ADI333' é um enunciado verdadeiro, Processo == 'MS222' é uma afirmação falsa."
      ],
      "metadata": {
        "id": "Npqtd9UYe9xg"
      }
    },
    {
      "cell_type": "markdown",
      "source": [
        "\n",
        "\n",
        "2. Variáveis\n",
        "2.1 Nomes\n",
        "Como posso definir significados para um nome?\n",
        "Depende, é claro, do tipo de significado que você atribua a ele. Neste ponto, vamos começar pelo significado que mais usaremos: nomes podem significar uma string.\n",
        "Para atribuir (assign) um significado ao nome, usamos a função '=':\n",
        "\n",
        "Importante: Processo = 'ADI333' não é uma afirmação sobre o nome processo, mas é uma atribuição de significado. Em Python, o símbolo de igual não é '=', mas é '=='.\n",
        "\n",
        "Uma vez definido que o nome processo terá por conteúdo a string 'ADI333', a expressão processo == 'ADI333' será uma afirmação verdadeira, enquanto processo == 'ADI222' será uma afirmação falsa.\n",
        "2.2 Variáveis e atributos\n",
        "Imagine que queremos construir um banco de dados sobre processos. Você já sabe o que é uma unidade de análise e sabe que, quando construímos uma base de dados, nós ligamos cada unidade (cada linha de nossa tabela) a uma série de 'atributos'. Se construirmos uma tabela que têm como unidade de análise processos, podemos ter esses 3 atributos básicos:\n",
        "Número do Processo\n",
        "Data de Julgamento\n",
        "Relator\n",
        "Como esses atributos variam para cada uma dos processos, eles são chamados de variáveis. Para o analista de dados, que observa as informações a partir de seu significado, as variáveis são os atributos das suas unidades de análise, que entram como parte dos seus bancos de dados.\n",
        "Já um programador, concentrados no modo pelo qual o computador processa as informações, as variáveis são nomes dados para dados que é preciso gravar e manipular dentro dos programas.  Quando você define que processo = 'ADI333', seu programa aloca uma certa área da memória do seu computador para guardar esse dado. Por isso, toda vez que você cria uma variável, você precisa atribuir um valor a ela.\n",
        "Um analista de dados pode criar uma variável em abstrato, definindo conceitualmente quais serão os atributos que serão mapeados por essa categoria. Porém, dentro da programação, não podem ser criadas variáveis dessa forma, pois variáveis não são categorias, mas são uma determinada ligação entre um nome e um valor. Não existe uma função criar variável processo. O que existe é a atribuição de um valor (como 'ADI333') a um nome, de tal forma que esse nome funcionará como uma variável:\n",
        "toda vez que você inserir o nome processo, o programa utilizará o valor ligado a esse nome;\n",
        "toda vez que você atribuir um novo valor ao nome processo, o programa substituirá o valor anterior pelo novo valor.\n",
        "Em Python, as variáveis são nomes que admitem dois tipos básicos de valores: strings e números (sendo que há vários tipos de números). Você logo se acostumará a chamar de variáveis cada um dos nomes aos quais você designará um valor (que, em termos do modelo de dados, são os atributos que serão mapeados).\n",
        "Cada programa que você escrever lidará com uma série de variáveis porque nunca fazemos algoritmos para lidar com um processo judicial apenas. O trabalho de fazer um programa para analisar processos judiciais só vale a pena quando podemos repetir a mesma operação para um grande número de objetos, de tal forma que o trabalho de fazer o código seja mais rápido do que o trabalho de analisar individualmente cada processo em busca das informações que desejamos.\n",
        "2.3 O nome das variáveis em Python\n",
        "Em Python, temos de adaptar a denominação dos dois primeiros atributos porque os nomes não admitem espaços (pois data de julgamento seria entendido como 3 nomes e não como um) e não admite acentos (porque os nomes em Python só podem ser escritos no limitado repertório da tabela ASCII). Os nomes das variáveis precisam começar com uma letra, mas admitem também números e underscores, nada mais.\n",
        "Assim, podemos adaptar os nomes pensados antes para:\n",
        "NumeroDoProcesso\n",
        "data_de_julgamento\n",
        "Relator\n",
        "Outra saída típica seria usar underline no lugar dos espaços, ou simplificar ainda mais os nomes, que é o que eu normalmente faço, ficando com uma palavra apenas, em letras minúsculas:\n",
        "processo\n",
        "julgamento\n",
        "relator\n",
        "A definição dos nomes é uma questão de estilo, mas usarei essa última combinação porque vocês vão ter de escrever várias vezes esses nomes, e nomes mais simples geram menos erros (embora digam menos sobre o que os nomes significam de fato, algo que é mais claro no modelo anterior).\n",
        "Agora escolha no site do STF uma ação e insira um conteúdo para cada uma dessas variáveis, tal como:\n",
        "\n",
        "Cronometre o tempo que você leva para entrar na página, procurar os dados do processo e escrever isso no Spyder. Imagino que você levará entre 40 e 50 segundos para realizar essa atividade, com relação a 3 informações simples e pequenas.\n",
        "Você logo aprenderá a criar um programa que realize isso de forma automatizada, entrando no site do STF, colhendo todos os atributos que você definir em cerca de 1 processo por segundo. Como o programa será centenas de vezes mais rápido (e bem mais preciso) do que você, valerá o esforço de elaborar o algoritmo que diga exatamente o que o computador deve fazer. Para isso, é preciso aprender a lidar com as variáveis.\n",
        "2.4 Variable explorer\n",
        "Por falar nas variáveis, é hora de observar uma outra parte do Spyder, que estava um pouco escondida: o explorador de variáveis (variable explorer).\n",
        "Na exibição padrão do Spyder (Spyder Default Layout), existe uma janela grande na esquerda (que ainda não usamos), e na direita existe o console (que estávamos usando até agora) e também uma janela de Help. Se você olhar com cuidado, verá a aba Variable Explorer ao lado da aba de Help, na janela superior direita.\n",
        "\n",
        "Para dar mais visibilidade a essa ferramenta que nos é muito útil vamos adotar o formato de tela que será o layout padrão das gravações de tela deste curso: a exibição RStudio, alterada na barra View, como indica o vídeo abaixo, que deve ser visto em tela cheia porque as letras ficam muito pequenas na exibição reduzida:\n",
        "\n",
        "Essa modificação deixa o explorador de variáveis na sua janela superior direita, e veja que ali estão as 3 variáveis definidas, bem como o conteúdo que atribuímos a elas.\n",
        "\n",
        "Estão ali as 3 variáveis definidas, com o conteúdo que foi dado. Como atribuímos 3 conteúdos string, o tipo da variável aparece como 'str'.\n",
        "3. Strings e números\n",
        "Não confunda '333' com 333.\n",
        "Os números, em Python, aparecem sem aspas e a sua utilidade é justamente que eles podem ser tratados por meio de operações matemáticas. Se você voltar para o console (que mudou de lado e está agora na parte inferior esquerda) e escrever 333 + 333 , o que aparecerá na sua tela?\n",
        "\n",
        "Isso ocorre porque um número pode ter vários nomes. 333, 332+1 e 666/2 são três nomes diferentes do mesmo número. O número é a quantidade designada, não importa se o designemos de uma forma direta (333) ou por meio de combinações de símbolos que  (como 111x3). Também podemos designar um número quando o definimos como o valor de uma variável:\n",
        "\n",
        "Note que, nos inputs, o Spyder deixa os números em amarelo, para ajudar a diferenciar das strings, que são brancas.\n",
        "Quando definimos que processo = 333, processo passa a ser um nome para a quantidade 333, o que permite que usemos o nome processo dentro de operações matemáticas, tal como se usássemos o numeral 333.\n",
        "Não confundir o número 333 com o numeral 333, pois numeral é um nome do número, usando algarismos (que, por sua vez, são símbolos usados para construir numerais: 0, 1, 2, III, IV, V, etc.).\n",
        "Olhe novamente o explorador de variáveis e você verá que algo mudou:\n",
        "\n",
        "A variável de nome processo continua tendo 333 como valor, mas esse valor agora é um int, ou seja, um número integral (integer). Antes, tratava-se da string '333', que é um valor totalmente diverso. Nesse caso específico, por mais que falemos em 'Número do Processo', o 333 de ADI333 não é um número (uma quantidade), mas é uma indicação de que ela ingressou no Tribunal depois da ADI332 e antes da ADI333.\n",
        "Não  devemos usar esse 333 em nenhuma operação matemática e, por isso, devemos tratar o número do processo como str, e não  como int.\n",
        "Uma vez que retornemos o 333 para string, experimente qual é o resultado das expressões:\n",
        "processo + processo\n",
        "processo - processo\n",
        "processo * 5\n",
        "\n",
        "Observe que a primeira expressão concatena as duas strings poderemos usá-lo em uma operação '+', que não é de soma, mas de concatenação. O símbolo '+', que é usado para somar números, é também usado para concatenar strings. Já o símbolo '*' concatena várias vezes uma string consigo mesma.\n",
        "Porém, não há operações de strings ligadas aos símbolos '-' ou '/', o que gera mensagens de erro: esses dois operadores somente são aplicados a números.\n",
        "Um problema comum ocorre quando temos uma variável numérica e pretendemos concatená-la com uma string. Isso acontece, por exemplo, se você tem uma lista de 50 andamentos de um processo e deseja chamar cada andamentos desses de andamento1, andamento2, andamento3 e assim por diante. Para usar esse caso no console, você pode definir:\n",
        "\n",
        "Nesse caso, retorna um TypeError, pois strings somente podem ser concatenadas a outras strings. Pare resolver esse problema, você precisa usar a função str(), que converte uma variável qualquer em uma string, que poderá então ser concatenada.\n",
        "\n",
        "Outra situação comum é a de você buscar informações em uma base de dados e acabar tendo números no formato string. Você pode ter uma tabela com a duração do processo ou o valor da causa, que são quantidades, mas que vão ser interpretados como strings porque foram extraídos apenas como textos contidos em uma tabela. Nesse caso, você precisa usar a função int(), para converter a string em um número inteiro, quando ela é formada por algarismos arábicos.\n",
        "\n",
        "Se você observar o Variable Explorer, verá que a expressão int(processo) retorna um número, mas não alterou o valor da variável. Ocorre que, muitas vezes, você deseja justamente alterar esse valor de forma definitiva, por tratar-se efetivamente de um número e não de um nome. Nesse caso, você pode redefinir o valor de processo:\n",
        "\n",
        "4. Trabalhando com strings\n",
        "Agora que você já sabe o que é uma string e sabe converter integers em strings (e vice-versa), você precisa aprender o último tópico dessa parte inicial sobre variáveis: manipular as strings.\n",
        "4.1 Replace\n",
        "Esse é um ponto importante porque é preciso utilizar esse tipo de alteração o tempo todo nos processos de extração de dados. Por exemplo, muitas vezes extraímos o campo ministro e temos dados como 'Min. Marco Aurélio', mas desejamos retirar o título, ficando apenas com o nome. Essa é uma função para a qual utilizamos a função replace, que segue o seguinte modelo:\n",
        "\n",
        "Usamos, então, o string.replace('texto a ser substituído', 'texto a inserir'), sendo que nesse caso específico inserimos uma string vazia '', que apaga o texto substituído.\n",
        "O replace pode ser usado das formas mais variadas, tais como:\n",
        "substituir letras acentuadas por não acentuadas (pois elas são entendidas como letras diferentes e é preciso padronizar as bases de dados);\n",
        "simplificar as bases (por exemplo, substituindo todas as Ação Direita de Constitucionalidade por ADI);\n",
        "limpar os dados (por exemplo, substituindo dois espaços por um espaço).\n",
        "4.2 Concatenar\n",
        "Outra foram de manipular as strings é concatená-las de forma adequada, para gerar expressões maiores. Uma expressão que você precisará de usar muitas vezes é o endereço na internet (url) em que estão os dados de cada processo. Um dos endereços que contém dados sobre a ADI 6000 é o:\n",
        "https://portal.stf.jus.br/peticaoInicial/verPeticaoInicial.asp?base=ADI&numProcesso=6000\n",
        "Estudaremos ainda a estrutura desses endereços, mas você já deve ter notado que o numProcesso=6000 está relacionado com o número do processo o que nos permite criar uma variável endereço que possa nos oferecer o endereço das várias ADIs:\n",
        "\n",
        "Com essa construção de que a variável url é formada pela concatenação de duas strings (o início do endereço mais o número do processo). Com isso, se você mudar o número do processo, e redefinir a variável url, será gerado um novo endereço.\n",
        "\n",
        "Observe que alterar a variável processo, sem redefinir a variável url, não vai alterar o conteúdo desta segunda variável.\n",
        "\n",
        "Por que isso ocorre? Pelo próprio sentido de uma variável string, que é constituída literalmente por uma cadeia de caracteres. Quando você define o conteúdo de uma string, o Python atribui a essa variável um valor que, no caso acima, é a sequência  'https://portal.stf.jus.br/peticaoInicial/verPeticaoInicial.asp?base=ADI&numProcesso=222'. No input [25], usamos o valor da variável processo para definir o valor da variável url, mas isso não significa que isso fique gravado na memória do Python, que simplesmente liga determinadas variáveis a certos valores.\n",
        "Por esse motivo, uma alteração na variável processo não tem impacto direto na cadeia de caracteres que constitui o valor de url. Essa interferência somente ocorrerá se você redefinir o valor de url, atribuindo a ela um novo conteúdo, que seja baseado no novo valor de processo.\n",
        "4.3 Posição dos caracteres na string\n",
        "Por fim, você pode manipular as strings a partir da alteração direta de elementos que fazem parte dela, usando referências aos elementos que a constituem.\n",
        "A string é literalmente uma sequência de caracteres, e é assim que ela é armazenada e pode ser acessada: uma sequência linear, que começa do caractere de número 0 e segue sendo numerada até o último objeto. Para identificar um caractere, basta dar o nome da string seguido de sua posição, entre colchetes.\n",
        "\n",
        "Nesse início, nunca é demais ressaltar que:\n",
        "A primeira posição de toda string é 0. Não é 1. É 0!\n",
        "Isso precisa ser ressaltado porque trata-se de uma característica do Python que é diferente de outras linguagens, como R. Como essa posição inicial no 0 não é intuitiva (nossa tendência é contar a partir do 1), trata-se de uma das causas mais comuns de erros de programação.\n",
        "Essa é uma convenção contraintuitiva, mas que parece ter motivo porque facilita o cálculo de intervalos. Imagine que você deseja baixar do STF as ADIs 100 a 300. Uma forma usual é identificar o padrão do endereço da ADI100 e depois automatizar que o programa buscará a ação  100, depois a 100+1, depois a 100+2, depois a 100+3 e assim por diante. A forma mais usual de fazer isso é indicar que o programa deve buscar a ação 100+n (porque 1 é o número da primeira ação), repetindo isso 201 vezes (seriam 200 se você quisesse de 101 a 300). Nesse caso, há duas opções:\n",
        "se n variar de 0 a 200 (como ocorre em Python), basta você dizer que o programa deve buscar no portal do STF a ação 100 +n (pois a primeira ação a ser buscada será justamente a ADI001, que é 100 + 0);\n",
        "já se n variar de 1 a 201, você teria de dizer que a ação buscada seria correspondente a 100 +(n -1), porque você precisaria somar 0 à sua posição inicial, para que o intervalo fosse correto. Sem esse cuidado, você teria grande chance de começar o intervalo do lugar errado, o que te daria as ações de 101 a 201.\n",
        "Embora você tenha que se lembrar que a posição inicial é sempre 0 (o que pode ser difícil no começo), você terá menos chance de cometer erros quando calcular intervalos, já que nesse momento o que você quer de verdade é que o intervalo seja de 100 + 0, 100 + 1, 100 + 2 e assim por diante. Logo, o fato de a posição inicial ser 0 facilita o cálculo dos intervalos (evitando der de somar +1 em todo intervalo) e torna os códigos mais elegantes.\n",
        "4.4 Intervalos de caracteres\n",
        "Agora que você sabe identificar um caractere dentro da string, é fácil você conseguir extrair um intervalo, que é dado por meio de um \":\", segundo o modelo:\n",
        "\n",
        "Aqui, os desenvolvedores da linguagem também tiveram de fazer uma escolha difícil. Se você define um intervalo [0:3], você pode querer dizer 4 coisas diferentes:\n",
        "Você deseja somente o que está no meio, excluindo os pontos de marcação, o que deveria retornar as posições 1 e 2.\n",
        "Você deseja incluir as posições indicadas no intervalo, o que retornaria 0, 1, 2 e 3.\n",
        "Você deseja incluir a posição inicial e excluir a posição final, o que retornaria 0, 1 e 2.\n",
        "Você deseja excluir a posição inicial e incluir a posição final, o que retornaria 1, 2 e 3.\n",
        "Os desenvolvedores de Python resolveram utilizar a saída 3. É muito comum desejarmos incluir desde a primeira posição, e seria muito ruim que a extração do termo 'ADI' fosse escrito como [-1:3]. Como o intervalo deveria incluir a primeira posição, seria razoável que ele incluísse também a segunda, de tal forma que 'ADI' corresponderia a [0:2]. Porém, como você deve ter notado pela figura anterior, a saída do Python foi a terceira: incluir o início e excluir o final.\n",
        "Por que essa escolha que também parece estranha. Acho que ela se explica também pelo modo usual de calcularmos intervalos. Imagine que você deseja buscar o relator de uma ADI no texto da página. Uma saída típica seria usar a função find(), que é usada da seguinte forma.\n",
        "\n",
        "O comando string.find('Relator: ') busca a primeira ocorrência de 'Relator:' dentro da variável string e retorna a posição do primeiro caractere dessa sequência. Com isso, o comando string[9:] nos retorna a sequência da posição 9 até o final.\n",
        "Mas a verdade é que não queremos extrair o termo 'Relator: ', somente o nome do relator, e por isso devemos deslocar o início da extração da posição 9 para a posição 9 + o número de caracteres de 'Relator: ', que nos é dado pelo utilíssimo comando len(), que vem de lenght:\n",
        "\n",
        "Para facilitar a nossa vida, podemos otimizar esse resultado inserindo uma variável inicio, que é a posição onde está o termo 'Relator: ', que serve como marcador de início do nome do relator, somado do número de caracteres desse marcador.\n",
        "\n",
        "Com isso, chegamos ao mesmo resultado, mas de uma forma mais elegante e legível.  E agora que conseguimos encontrar o ponto inicial de extração, podemos encontrar também uma marcação adequada para o final desse nome, que acaba logo antes de uma ','. Com isso, podemos encontrar o final se descobrirmos a posição dessa ','.\n",
        "Ocorre que nós não queremos que esse marcador do final entre no nosso intervalo! E é por isso que os desenvolvedores de Python devem ter escolhido a opção 3:\n",
        "normalmente queremos que a posição inicial seja incluída, e queremos que o marcador de fim seja excluído do texto extraído.\n",
        "Se você usar um string.find(','), o resultado será a posição da primeira vírgula, que vem depois de 'ADI 333', o que não nos interessa. Porém, isso é facilmente resolvido pela utilização da forma completa da função find, que admite a inclusão de uma posição inicial para a busca, que será justamente a variável. Com isso, teremos:\n",
        "\n",
        "Essa lógica de encontrar um marcador de início e um marcador de fim, para extrair o que está no meio, será utilizada exaustivamente nos nossos programas de extração.\n",
        "A extração desses segmentos é importantíssima porque, quando buscamos informações dentro de uma página da internet, o que temos é uma imensa string, com milhares de caracteres, e precisamos extrair pontos específicos. Uma posição errada transforma \"Marco Aurélio\" em \"arco Aurélio\". Duas posições de erro podem transformar um 'Improcedente' em 'procedente  '. Mas, com uma escolha adequada de marcadores de início e de fim, você é capaz de extrair qualquer texto que desejar.\n",
        "5. Resumo\n",
        "O que você aprendeu até aqui:\n",
        "Definir variáveis string e numéricas,\n",
        "Alterar o valor das variáveis,\n",
        "Manipular strings usando a função replace,\n",
        "Extrair textos a partir de sua posição na string,\n",
        "Encontrar posições na string usando a função find,\n",
        "Extrair trechos usando a lógica de marcador de início + marcador de fim."
      ],
      "metadata": {
        "id": "Fx-9bzpHV-ea"
      }
    },
    {
      "cell_type": "code",
      "source": [],
      "metadata": {
        "id": "veUhXKr0Tjcx"
      },
      "execution_count": null,
      "outputs": []
    }
  ]
}